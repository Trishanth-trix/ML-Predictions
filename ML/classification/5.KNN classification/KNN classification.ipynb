{
 "cells": [
  {
   "cell_type": "code",
   "execution_count": null,
   "metadata": {},
   "outputs": [],
   "source": [
    "#KNN classification\n",
    "# ----------------------"
   ]
  },
  {
   "cell_type": "code",
   "execution_count": null,
   "metadata": {},
   "outputs": [],
   "source": [
    "\"\"\"\n",
    "Steps to predict the new data point's category\n",
    "\n",
    "step 1:\n",
    "    We need to select the no of k of the neighbour.\n",
    "    k=root(total data points)\n",
    "\n",
    "step 2:\n",
    "    Calculate euclidian distance of k no of neighbour.\n",
    "    Euclidian distance:\n",
    "    --------------------\n",
    "    Euclidian distance is nothing but distance between 2 points\n",
    "    =root((x2-x1)square + (y2-y1)square)\n",
    "\n",
    "step 3:\n",
    "    Take the k nearest neighbours as per euclidian distance.\n",
    "step 4:\n",
    "    Among these k neighbours count \n",
    "    the number of data points of each category.\n",
    "step 5:\n",
    "    Assign new data point in that category and get the output.\n",
    "\"\"\""
   ]
  },
  {
   "cell_type": "code",
   "execution_count": null,
   "metadata": {},
   "outputs": [],
   "source": [
    "\"\"\"\n",
    "import data set using pandas\n",
    "then find the dependent and independent variables\n",
    "-------------------------------------------------------\n",
    "| user id|Gender | age | estimated salary | purchaded |\n",
    "-------------------------------------------------------\n",
    "|    123 | M     |  19 | 19000            |   0       |\n",
    "|   4534 | F     | 23  | 17000            |   1       |\n",
    "-------------------------------------------------------\n",
    "\n",
    "in the above data set  \n",
    "independent values = gender,age,estimated salary\n",
    "we can also include user id but it is not that much important\n",
    "dependent = purchased\n",
    "\n",
    "replace the sting values in gender  \n",
    "male = 0\n",
    "female = 1\n",
    "\n",
    "df[\"gender\"].replace({\"m\":0,\"female\":1},inplace=True)\n",
    "\n",
    "successfully replaced the values to 0 and 1.\n",
    "\"\"\"\n"
   ]
  },
  {
   "cell_type": "code",
   "execution_count": null,
   "metadata": {},
   "outputs": [],
   "source": [
    "\"\"\"\n",
    "extract x and y values\n",
    "x=iloc[:,1:4]\n",
    "y=iloc[:,4:]\n",
    "\"\"\""
   ]
  },
  {
   "cell_type": "code",
   "execution_count": null,
   "metadata": {},
   "outputs": [],
   "source": [
    "\"\"\"\n",
    "importing train_test_split() from sklearn.model_selection\n",
    "\n",
    "from sklearn.model_selection import train_test_split\n",
    "\n",
    "xtrain,xtest,ytrain,ytest=train_test_split(x,y,train_size=0.8)\n",
    "\n",
    "from sklearn.neighbors import KNeighboursClassifier\n",
    "\n",
    "KNN_model=KNeighboursClassifier(n_neighbours=5)\n",
    "\n",
    "# inside paranthesis we need to mention the no.of neighbours we need to check\n",
    "#our wish we can give our own number inside the paranthesis\n",
    "\n",
    "KNN_model.fit(xtrain,ytrain)\n",
    "\n",
    "ans=KNN_model.predict(xtest)\n",
    "\n",
    "# model accuracy\n",
    " \n",
    "KNN_model.score(xtest,ytest)\n",
    "\n",
    "op: \n",
    "    0.75\n",
    "\n",
    "\n",
    "\n",
    "\"\"\""
   ]
  }
 ],
 "metadata": {
  "kernelspec": {
   "display_name": "Python 3",
   "language": "python",
   "name": "python3"
  },
  "language_info": {
   "codemirror_mode": {
    "name": "ipython",
    "version": 3
   },
   "file_extension": ".py",
   "mimetype": "text/x-python",
   "name": "python",
   "nbconvert_exporter": "python",
   "pygments_lexer": "ipython3",
   "version": "3.11.4"
  }
 },
 "nbformat": 4,
 "nbformat_minor": 2
}
