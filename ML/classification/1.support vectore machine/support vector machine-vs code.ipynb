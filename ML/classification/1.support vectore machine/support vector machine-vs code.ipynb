{
 "cells": [
  {
   "cell_type": "code",
   "execution_count": 1,
   "metadata": {},
   "outputs": [
    {
     "name": "stderr",
     "output_type": "stream",
     "text": [
      "C:\\Users\\91701\\AppData\\Local\\Temp\\ipykernel_10760\\3626892227.py:1: DeprecationWarning: \n",
      "Pyarrow will become a required dependency of pandas in the next major release of pandas (pandas 3.0),\n",
      "(to allow more performant data types, such as the Arrow string type, and better interoperability with other libraries)\n",
      "but was not found to be installed on your system.\n",
      "If this would cause problems for you,\n",
      "please provide us feedback at https://github.com/pandas-dev/pandas/issues/54466\n",
      "        \n",
      "  import pandas as pd\n"
     ]
    }
   ],
   "source": [
    "import pandas as pd\n",
    "import matplotlib.pyplot as plt\n",
    "import seaborn as sb\n",
    "ds=pd.read_csv(r\"C:\\Users\\91701\\Downloads\\Iris1.csv.xls\")"
   ]
  },
  {
   "cell_type": "code",
   "execution_count": 2,
   "metadata": {},
   "outputs": [
    {
     "name": "stderr",
     "output_type": "stream",
     "text": [
      "C:\\Users\\91701\\AppData\\Local\\Temp\\ipykernel_10760\\2179079398.py:5: FutureWarning: A value is trying to be set on a copy of a DataFrame or Series through chained assignment using an inplace method.\n",
      "The behavior will change in pandas 3.0. This inplace method will never work because the intermediate object on which we are setting values always behaves as a copy.\n",
      "\n",
      "For example, when doing 'df[col].method(value, inplace=True)', try using 'df.method({col: value}, inplace=True)' or df[col] = df[col].method(value) instead, to perform the operation inplace on the original object.\n",
      "\n",
      "\n",
      "  ds[\"Species\"].replace({\"Iris-setosa\":\"1\", \"Iris-versicolor\":\"2\", \"Iris-virginica\":\"3\"},inplace=True)\n"
     ]
    }
   ],
   "source": [
    "x=ds.iloc[:,1:5]\n",
    "y=ds.iloc[:,5:]\n",
    "ds.isnull().sum()\n",
    "ds[\"Species\"].unique()#prints unique names of the species\n",
    "ds[\"Species\"].replace({\"Iris-setosa\":\"1\", \"Iris-versicolor\":\"2\", \"Iris-virginica\":\"3\"},inplace=True)\n",
    "#replacing the species names with the integers by using dictionary\n"
   ]
  },
  {
   "cell_type": "code",
   "execution_count": 5,
   "metadata": {},
   "outputs": [
    {
     "name": "stderr",
     "output_type": "stream",
     "text": [
      "c:\\Users\\91701\\AppData\\Local\\Programs\\Python\\Python311\\Lib\\site-packages\\sklearn\\utils\\validation.py:1229: DataConversionWarning: A column-vector y was passed when a 1d array was expected. Please change the shape of y to (n_samples, ), for example using ravel().\n",
      "  y = column_or_1d(y, warn=True)\n"
     ]
    },
    {
     "data": {
      "text/plain": [
       "0.9666666666666667"
      ]
     },
     "execution_count": 5,
     "metadata": {},
     "output_type": "execute_result"
    }
   ],
   "source": [
    "from sklearn.model_selection import train_test_split\n",
    "#for training and testing the data we need to import train_test_split from sklearn.model selection\n",
    "#training data x_train,y_train,x_test and y_test\n",
    "#train_test_split()function will be segregating the test and train data inside the parameters we need to give x and y values \n",
    "#train_size will be lie between 0 and 1,here 0.8 will serve as 80% of data will be assigned as training.remaining will be test data.\n",
    "xtrain,xtest,ytrain,ytest=train_test_split(x,y,train_size=0.8)\n",
    "#now to make support vector machine we should import SVC(support vector classifier) from sklearn.svm(support vector machine)\n",
    "from sklearn.svm import SVC\n",
    "model=SVC()#prepared model\n",
    "#training the model using fit()inside the fit()we need to give training data\n",
    "model.fit(xtrain,ytrain)\n",
    "model.predict(xtest)\n",
    "model.score(xtest,ytest)# for getting accuracy of our model we will use score(actual data,predicted data)\n"
   ]
  }
 ],
 "metadata": {
  "kernelspec": {
   "display_name": "Python 3",
   "language": "python",
   "name": "python3"
  },
  "language_info": {
   "codemirror_mode": {
    "name": "ipython",
    "version": 3
   },
   "file_extension": ".py",
   "mimetype": "text/x-python",
   "name": "python",
   "nbconvert_exporter": "python",
   "pygments_lexer": "ipython3",
   "version": "3.11.4"
  },
  "orig_nbformat": 4
 },
 "nbformat": 4,
 "nbformat_minor": 2
}
