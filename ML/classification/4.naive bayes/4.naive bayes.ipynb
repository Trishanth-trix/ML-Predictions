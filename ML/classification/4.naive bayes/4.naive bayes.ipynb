{
 "cells": [
  {
   "cell_type": "code",
   "execution_count": null,
   "metadata": {},
   "outputs": [],
   "source": [
    "#naive bayes classification\n",
    "# --------------------------\n",
    "#to predict the probability we use this naive bayes\n",
    "#it has independent features in the dataset\n",
    "\n"
   ]
  },
  {
   "cell_type": "code",
   "execution_count": null,
   "metadata": {},
   "outputs": [],
   "source": [
    "#from sklearn.naive_bayes import GaussianNB\n",
    "# NB - naive bayes\n",
    "# remaining naive bayes are multinomialNB , BerboulliNB\n",
    "\n",
    "# model=fit(xtrain,ytrain)\n",
    "#result=model.predict(xtest)\n",
    "\n",
    "#accuracy test\n",
    "#result.score(xtest,ytest)\n",
    "# op: 0.9 i think"
   ]
  }
 ],
 "metadata": {
  "language_info": {
   "name": "python"
  }
 },
 "nbformat": 4,
 "nbformat_minor": 2
}
