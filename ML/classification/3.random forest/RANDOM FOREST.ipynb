{
 "cells": [
  {
   "cell_type": "code",
   "execution_count": 2,
   "metadata": {},
   "outputs": [],
   "source": [
    "#RANDOM FOREST\n",
    "#-------"
   ]
  },
  {
   "cell_type": "code",
   "execution_count": null,
   "metadata": {},
   "outputs": [],
   "source": [
    "#First of all what is random forest?\n",
    "#random forest is nothing but.. collection of some randome forests is called randome forest\n",
    "\n",
    "#how the prediction is happened?\n",
    "#data set has training and test data \n",
    "#In test data there are some samples those called as decision tree\n",
    "#each sample will be predicted one outcome \n",
    "#most of the repeated decision is selected and it will predict the value\n"
   ]
  },
  {
   "cell_type": "code",
   "execution_count": null,
   "metadata": {},
   "outputs": [],
   "source": [
    "#Ensemble method:\n",
    "#it is a machine learning concept \n",
    "#which is combined of several base models \n",
    "#inorder to find the most optimal predictive solution"
   ]
  },
  {
   "cell_type": "code",
   "execution_count": null,
   "metadata": {},
   "outputs": [],
   "source": [
    "#after extracting inputs(x values) and output(y values) \n",
    "#after that \n",
    "#from sklearn.model_selection import train_test_split\n",
    "# then we need to do x train,xtest,ytrain,ytest=train_test_split(x,y,train_size=0.8)\n",
    " "
   ]
  },
  {
   "cell_type": "code",
   "execution_count": null,
   "metadata": {},
   "outputs": [],
   "source": [
    "#preparing a model\n",
    "\n",
    "# from sklearn.ensemble import RandomForestClassifier\n",
    "# model=RandomForestClassifier()\n",
    "# model.fit(xtrain,ytrain)\n",
    "#model.score(xtest,ytest)\n",
    "\n",
    "#op: 0.9\n",
    "\n",
    "# predicted_result=model.predict(xtest)\n",
    "\n",
    "#predicted result will be\n",
    "# print(predicted_result)\n"
   ]
  }
 ],
 "metadata": {
  "kernelspec": {
   "display_name": "Python 3",
   "language": "python",
   "name": "python3"
  },
  "language_info": {
   "codemirror_mode": {
    "name": "ipython",
    "version": 3
   },
   "file_extension": ".py",
   "mimetype": "text/x-python",
   "name": "python",
   "nbconvert_exporter": "python",
   "pygments_lexer": "ipython3",
   "version": "3.11.4"
  }
 },
 "nbformat": 4,
 "nbformat_minor": 2
}
